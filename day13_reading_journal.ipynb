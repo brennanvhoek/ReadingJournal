{
 "cells": [
  {
   "cell_type": "markdown",
   "metadata": {},
   "source": [
    "# Day 13 Reading Journal\n",
    "\n",
    "This journal includes review questions relating to Think Python Chapter 16.\n",
    "\n",
    "**Due: Thursday, October 20 at 12 noon**"
   ]
  },
  {
   "cell_type": "markdown",
   "metadata": {},
   "source": [
    "## Exercise 16-1.\n",
    "Write a function called `print_time` that takes a Time object and prints it in the form `hour:minute:second`.\n",
    "Hint: the format sequence `'%.2d'` prints an integer using at least two digits, including a leading zero if necessary."
   ]
  },
  {
   "cell_type": "code",
   "execution_count": 63,
   "metadata": {
    "collapsed": false
   },
   "outputs": [
    {
     "data": {
      "text/plain": [
       "'06:24:17'"
      ]
     },
     "execution_count": 63,
     "metadata": {},
     "output_type": "execute_result"
    }
   ],
   "source": [
    "class Time(object):\n",
    "    \"\"\"Represents the time of day.\n",
    "    attributes: hour, minute, second\n",
    "    \"\"\"\n",
    "\n",
    "def print_Time(time):\n",
    "    # Prints time in hour:minute:second form\n",
    "    \n",
    "    time_reformat = '%.2d' % time.hour + \":\" +  '%.2d' % time.minute + \":\" +  '%.2d' % time.second\n",
    "    \n",
    "    return time_reformat\n",
    "\n",
    "import random\n",
    "\n",
    "time = Time()\n",
    "\n",
    "def random_time(time):\n",
    "    time.hour = random.randint(1,12)\n",
    "    time.minute = random.randint(0,59)\n",
    "    time.second = random.randint(0,59)\n",
    "    \n",
    "    return time\n",
    "\n",
    "random_time(time)\n",
    "\n",
    "print_Time(time)"
   ]
  },
  {
   "cell_type": "raw",
   "metadata": {},
   "source": []
  },
  {
   "cell_type": "markdown",
   "metadata": {},
   "source": [
    "## Exercise 16-2\n",
    "Write a boolean function called `is_after` that takes two Time objects, `t1` and `t2`, and returns `True` if `t1` follows `t2` chronologically and `False` otherwise.\n",
    "\n",
    "Challenge: don’t use an `if` statement."
   ]
  },
  {
   "cell_type": "code",
   "execution_count": 95,
   "metadata": {
    "collapsed": false
   },
   "outputs": [
    {
     "name": "stdout",
     "output_type": "stream",
     "text": [
      "Time 1 = 05:37:49\n",
      "Time 2 = 05:44:13\n"
     ]
    },
    {
     "data": {
      "text/plain": [
       "True"
      ]
     },
     "execution_count": 95,
     "metadata": {},
     "output_type": "execute_result"
    }
   ],
   "source": [
    "def is_after(t1, t2):\n",
    "    #takes two time objects and returns true is t1 is chronologically before t2\n",
    "    time_1 = t1.hour + t1.minute/60.0 + t1.second/60.0/60\n",
    "    time_2 = t2.hour + t2.minute/60.0 + t2.second/60.0/60\n",
    "    \n",
    "    print \"Time 1 = \" + print_Time(t1)\n",
    "    print \"Time 2 = \" + print_Time(t2)\n",
    "    \n",
    "    if time_1 < time_2:\n",
    "        return True\n",
    "    return False\n",
    "\n",
    "import random\n",
    "\n",
    "t1 = Time()\n",
    "t2 = Time()\n",
    "\n",
    "random_time(t1)\n",
    "random_time(t2)\n",
    "\n",
    "is_after(t1, t2)"
   ]
  },
  {
   "cell_type": "markdown",
   "metadata": {},
   "source": [
    "## Modifiers\n",
    "Complete the code below, such that it demonstrates:\n",
    "\n",
    "* `increment` behaving as specified\n",
    "* `increment` with incorrect behavior"
   ]
  },
  {
   "cell_type": "code",
   "execution_count": 120,
   "metadata": {
    "collapsed": false
   },
   "outputs": [
    {
     "name": "stdout",
     "output_type": "stream",
     "text": [
      "Time 1 before = 06:00:27\n",
      "Time 1 after = 06:01:12\n",
      "\n",
      "Time 2 before = 02:25:07\n",
      "Time 2 after = 02:26:67\n"
     ]
    }
   ],
   "source": [
    "def increment(time, seconds):\n",
    "    time.second += seconds\n",
    "    if time.second >= 60:\n",
    "        time.second -= 60\n",
    "        time.minute += 1\n",
    "    if time.minute >= 60:\n",
    "        time.minute -= 60\n",
    "        time.hour += 1\n",
    "\n",
    "t1 = Time() # modify this line to create a new instance of Time\n",
    "random_time(t1)\n",
    "\n",
    "print \"Time 1 before = \" + print_Time(t1)\n",
    "increment(t1, 45) # modify this line to increment t1 by 45 seconds\n",
    "print \"Time 1 after = \" + print_Time(t1) # modify this line to print the attributes of t1, to show that it has been correctly incremented\n",
    "print \"\"\n",
    "\n",
    "t2 = Time() # modify this line to create another instance of Time\n",
    "random_time(t2)\n",
    "print \"Time 2 before = \" + print_Time(t2)\n",
    "\n",
    "increment(t2, 120) # modify this line to increment t2\n",
    "print \"Time 2 after = \" + print_Time(t2) # modify this line to demonstrate that the previous call to increment behaved incorrectly"
   ]
  },
  {
   "cell_type": "markdown",
   "metadata": {},
   "source": [
    "## Exercise 16-3 (adapted)\n",
    "Fix `increment`, and demonstrate that has the correct behavior in the case that was a problem above.\n",
    "\n",
    "Unlike the version of this question in Think Python, you are allowed (but not required) to use loops."
   ]
  },
  {
   "cell_type": "code",
   "execution_count": 129,
   "metadata": {
    "collapsed": false
   },
   "outputs": [
    {
     "name": "stdout",
     "output_type": "stream",
     "text": [
      "Time 3 before = 08:03:27\n",
      "Time 3 after = 05:23:27\n"
     ]
    }
   ],
   "source": [
    "def increment(time, seconds):\n",
    "    time.second += seconds\n",
    "    while time.second >= 60:\n",
    "        time.second -= 60\n",
    "        time.minute += 1\n",
    "    while time.minute >= 60:\n",
    "        time.minute -= 60\n",
    "        time.hour += 1\n",
    "    while time.hour >= 12:\n",
    "        time.hour -= 12\n",
    "\n",
    "t3 = Time() # modify this line to create another instance of Time\n",
    "random_time(t3)\n",
    "print \"Time 3 before = \" + print_Time(t3)\n",
    "\n",
    "increment(t3, 1200000) # modify this line to increment t2\n",
    "print \"Time 3 after = \" + print_Time(t3) # modify this line to demonstrate that the previous call to increment behaved incorrectly"
   ]
  },
  {
   "cell_type": "markdown",
   "metadata": {},
   "source": [
    "## PyGame Tutorial\n",
    "Add a link to the PyGame tutorial that you studied.\n",
    "\n",
    "Write a sentence (or more) that summarize the main points of the tutorial."
   ]
  },
  {
   "cell_type": "markdown",
   "metadata": {},
   "source": [
    "http://osdcpapers.cgpublisher.com/product/pub.84/prod.11/m.1?\n",
    "\n",
    "PyGame is a way of rendering graphics and checking how those graphics interact to create game play. It is important to consider the speed of operations and not try to compute to much whihc each frame. Also, clock timers are important to keep the game behaviour similar acrross different machines. "
   ]
  },
  {
   "cell_type": "markdown",
   "metadata": {},
   "source": [
    "# Quick poll\n",
    "About how long did you spend working on this Reading Journal?"
   ]
  },
  {
   "cell_type": "code",
   "execution_count": null,
   "metadata": {
    "collapsed": true
   },
   "outputs": [],
   "source": [
    "3 hours"
   ]
  },
  {
   "cell_type": "markdown",
   "metadata": {},
   "source": [
    " "
   ]
  }
 ],
 "metadata": {
  "anaconda-cloud": {},
  "kernelspec": {
   "display_name": "Python 2",
   "language": "python",
   "name": "python2"
  },
  "language_info": {
   "codemirror_mode": {
    "name": "ipython",
    "version": 2
   },
   "file_extension": ".py",
   "mimetype": "text/x-python",
   "name": "python",
   "nbconvert_exporter": "python",
   "pygments_lexer": "ipython2",
   "version": "2.7.12"
  }
 },
 "nbformat": 4,
 "nbformat_minor": 0
}
